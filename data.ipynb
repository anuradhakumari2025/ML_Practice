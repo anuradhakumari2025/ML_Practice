{
 "cells": [
  {
   "cell_type": "markdown",
   "metadata": {},
   "source": [
    "Data Cleaning\n"
   ]
  },
  {
   "cell_type": "code",
   "execution_count": 28,
   "metadata": {},
   "outputs": [],
   "source": [
    "import pandas as pd\n",
    "import seaborn as sns\n",
    "import matplotlib.pyplot as plt"
   ]
  },
  {
   "cell_type": "markdown",
   "metadata": {},
   "source": [
    "seaborn and matplotlib is used to show data graphically"
   ]
  },
  {
   "cell_type": "code",
   "execution_count": 13,
   "metadata": {},
   "outputs": [],
   "source": [
    "# Read the CSV file with a specified encoding\n",
    "dataset = pd.read_csv(\"C:\\\\vs-code-folder\\\\ML_Practice\\\\amazon_reviews_2019.csv\", encoding='ISO-8859-1')\n"
   ]
  },
  {
   "cell_type": "code",
   "execution_count": 15,
   "metadata": {},
   "outputs": [
    {
     "data": {
      "text/html": [
       "<div>\n",
       "<style scoped>\n",
       "    .dataframe tbody tr th:only-of-type {\n",
       "        vertical-align: middle;\n",
       "    }\n",
       "\n",
       "    .dataframe tbody tr th {\n",
       "        vertical-align: top;\n",
       "    }\n",
       "\n",
       "    .dataframe thead th {\n",
       "        text-align: right;\n",
       "    }\n",
       "</style>\n",
       "<table border=\"1\" class=\"dataframe\">\n",
       "  <thead>\n",
       "    <tr style=\"text-align: right;\">\n",
       "      <th></th>\n",
       "      <th>report_date</th>\n",
       "      <th>online_store</th>\n",
       "      <th>upc</th>\n",
       "      <th>retailer_product_code</th>\n",
       "      <th>brand</th>\n",
       "      <th>category</th>\n",
       "      <th>sub_category</th>\n",
       "      <th>product_description</th>\n",
       "      <th>review_date</th>\n",
       "      <th>review_rating</th>\n",
       "      <th>...</th>\n",
       "      <th>dimension2</th>\n",
       "      <th>dimension3</th>\n",
       "      <th>dimension4</th>\n",
       "      <th>dimension5</th>\n",
       "      <th>dimension6</th>\n",
       "      <th>dimension7</th>\n",
       "      <th>dimension8</th>\n",
       "      <th>verified_purchase</th>\n",
       "      <th>helpful_review_count</th>\n",
       "      <th>review_hash_id</th>\n",
       "    </tr>\n",
       "  </thead>\n",
       "  <tbody>\n",
       "    <tr>\n",
       "      <th>0</th>\n",
       "      <td>1/2/2019</td>\n",
       "      <td>FRESHAMAZON</td>\n",
       "      <td>8.718110e+12</td>\n",
       "      <td>B0142CI6FC</td>\n",
       "      <td>Dove Men+Care</td>\n",
       "      <td>Personal Care</td>\n",
       "      <td>Deos</td>\n",
       "      <td>Dove Men+Care Extra Fresh Anti-perspirant Deod...</td>\n",
       "      <td>1/1/2019</td>\n",
       "      <td>5</td>\n",
       "      <td>...</td>\n",
       "      <td>Male Anti-Perspirant Deodorant</td>\n",
       "      <td>COTC Male Anti-Perspirant Deodorant</td>\n",
       "      <td>NaN</td>\n",
       "      <td>NaN</td>\n",
       "      <td>NaN</td>\n",
       "      <td>COTC Male Anti-Perspirant Deodorant</td>\n",
       "      <td>Core of the Core</td>\n",
       "      <td>True</td>\n",
       "      <td>0</td>\n",
       "      <td>3f129b02-ea76-0323-bd59-235d97a4f83f</td>\n",
       "    </tr>\n",
       "    <tr>\n",
       "      <th>1</th>\n",
       "      <td>1/3/2019</td>\n",
       "      <td>FRESHAMAZON</td>\n",
       "      <td>5.000180e+12</td>\n",
       "      <td>B014DFNNRY</td>\n",
       "      <td>Marmite</td>\n",
       "      <td>Foods</td>\n",
       "      <td>Savoury</td>\n",
       "      <td>Marmite  Spread Yeast Extract 500g</td>\n",
       "      <td>1/2/2019</td>\n",
       "      <td>5</td>\n",
       "      <td>...</td>\n",
       "      <td>COTC Yeast Extract</td>\n",
       "      <td>COTC Yeast Extract</td>\n",
       "      <td>NaN</td>\n",
       "      <td>NaN</td>\n",
       "      <td>NaN</td>\n",
       "      <td>COTC Yeast Extract</td>\n",
       "      <td>Core of the Core</td>\n",
       "      <td>True</td>\n",
       "      <td>0</td>\n",
       "      <td>d7f3b9aa-e8b3-626d-683b-374e201c8315</td>\n",
       "    </tr>\n",
       "    <tr>\n",
       "      <th>2</th>\n",
       "      <td>1/3/2019</td>\n",
       "      <td>FRESHAMAZON</td>\n",
       "      <td>5.000180e+12</td>\n",
       "      <td>B014DFNNRY</td>\n",
       "      <td>Marmite</td>\n",
       "      <td>Foods</td>\n",
       "      <td>Savoury</td>\n",
       "      <td>Marmite  Spread Yeast Extract 500g</td>\n",
       "      <td>1/2/2019</td>\n",
       "      <td>4</td>\n",
       "      <td>...</td>\n",
       "      <td>COTC Yeast Extract</td>\n",
       "      <td>COTC Yeast Extract</td>\n",
       "      <td>NaN</td>\n",
       "      <td>NaN</td>\n",
       "      <td>NaN</td>\n",
       "      <td>COTC Yeast Extract</td>\n",
       "      <td>Core of the Core</td>\n",
       "      <td>True</td>\n",
       "      <td>0</td>\n",
       "      <td>e58a523d-0155-a366-f107-7ac6817ac3b7</td>\n",
       "    </tr>\n",
       "  </tbody>\n",
       "</table>\n",
       "<p>3 rows × 32 columns</p>\n",
       "</div>"
      ],
      "text/plain": [
       "  report_date online_store           upc retailer_product_code          brand  \\\n",
       "0    1/2/2019  FRESHAMAZON  8.718110e+12            B0142CI6FC  Dove Men+Care   \n",
       "1    1/3/2019  FRESHAMAZON  5.000180e+12            B014DFNNRY        Marmite   \n",
       "2    1/3/2019  FRESHAMAZON  5.000180e+12            B014DFNNRY        Marmite   \n",
       "\n",
       "        category sub_category  \\\n",
       "0  Personal Care         Deos   \n",
       "1          Foods      Savoury   \n",
       "2          Foods      Savoury   \n",
       "\n",
       "                                 product_description review_date  \\\n",
       "0  Dove Men+Care Extra Fresh Anti-perspirant Deod...    1/1/2019   \n",
       "1                 Marmite  Spread Yeast Extract 500g    1/2/2019   \n",
       "2                 Marmite  Spread Yeast Extract 500g    1/2/2019   \n",
       "\n",
       "   review_rating  ...                      dimension2  \\\n",
       "0              5  ...  Male Anti-Perspirant Deodorant   \n",
       "1              5  ...              COTC Yeast Extract   \n",
       "2              4  ...              COTC Yeast Extract   \n",
       "\n",
       "                            dimension3  dimension4 dimension5 dimension6  \\\n",
       "0  COTC Male Anti-Perspirant Deodorant         NaN        NaN        NaN   \n",
       "1                   COTC Yeast Extract         NaN        NaN        NaN   \n",
       "2                   COTC Yeast Extract         NaN        NaN        NaN   \n",
       "\n",
       "                            dimension7        dimension8 verified_purchase  \\\n",
       "0  COTC Male Anti-Perspirant Deodorant  Core of the Core              True   \n",
       "1                   COTC Yeast Extract  Core of the Core              True   \n",
       "2                   COTC Yeast Extract  Core of the Core              True   \n",
       "\n",
       "  helpful_review_count                        review_hash_id  \n",
       "0                    0  3f129b02-ea76-0323-bd59-235d97a4f83f  \n",
       "1                    0  d7f3b9aa-e8b3-626d-683b-374e201c8315  \n",
       "2                    0  e58a523d-0155-a366-f107-7ac6817ac3b7  \n",
       "\n",
       "[3 rows x 32 columns]"
      ]
     },
     "execution_count": 15,
     "metadata": {},
     "output_type": "execute_result"
    }
   ],
   "source": [
    "dataset.head(3)"
   ]
  },
  {
   "cell_type": "code",
   "execution_count": 16,
   "metadata": {},
   "outputs": [
    {
     "data": {
      "text/plain": [
       "(2501, 32)"
      ]
     },
     "execution_count": 16,
     "metadata": {},
     "output_type": "execute_result"
    }
   ],
   "source": [
    "dataset.shape"
   ]
  },
  {
   "cell_type": "code",
   "execution_count": 17,
   "metadata": {},
   "outputs": [
    {
     "data": {
      "text/html": [
       "<div>\n",
       "<style scoped>\n",
       "    .dataframe tbody tr th:only-of-type {\n",
       "        vertical-align: middle;\n",
       "    }\n",
       "\n",
       "    .dataframe tbody tr th {\n",
       "        vertical-align: top;\n",
       "    }\n",
       "\n",
       "    .dataframe thead th {\n",
       "        text-align: right;\n",
       "    }\n",
       "</style>\n",
       "<table border=\"1\" class=\"dataframe\">\n",
       "  <thead>\n",
       "    <tr style=\"text-align: right;\">\n",
       "      <th></th>\n",
       "      <th>report_date</th>\n",
       "      <th>online_store</th>\n",
       "      <th>upc</th>\n",
       "      <th>retailer_product_code</th>\n",
       "      <th>brand</th>\n",
       "      <th>category</th>\n",
       "      <th>sub_category</th>\n",
       "      <th>product_description</th>\n",
       "      <th>review_date</th>\n",
       "      <th>review_rating</th>\n",
       "      <th>...</th>\n",
       "      <th>dimension2</th>\n",
       "      <th>dimension3</th>\n",
       "      <th>dimension4</th>\n",
       "      <th>dimension5</th>\n",
       "      <th>dimension6</th>\n",
       "      <th>dimension7</th>\n",
       "      <th>dimension8</th>\n",
       "      <th>verified_purchase</th>\n",
       "      <th>helpful_review_count</th>\n",
       "      <th>review_hash_id</th>\n",
       "    </tr>\n",
       "  </thead>\n",
       "  <tbody>\n",
       "    <tr>\n",
       "      <th>0</th>\n",
       "      <td>False</td>\n",
       "      <td>False</td>\n",
       "      <td>False</td>\n",
       "      <td>False</td>\n",
       "      <td>False</td>\n",
       "      <td>False</td>\n",
       "      <td>False</td>\n",
       "      <td>False</td>\n",
       "      <td>False</td>\n",
       "      <td>False</td>\n",
       "      <td>...</td>\n",
       "      <td>False</td>\n",
       "      <td>False</td>\n",
       "      <td>True</td>\n",
       "      <td>True</td>\n",
       "      <td>True</td>\n",
       "      <td>False</td>\n",
       "      <td>False</td>\n",
       "      <td>False</td>\n",
       "      <td>False</td>\n",
       "      <td>False</td>\n",
       "    </tr>\n",
       "    <tr>\n",
       "      <th>1</th>\n",
       "      <td>False</td>\n",
       "      <td>False</td>\n",
       "      <td>False</td>\n",
       "      <td>False</td>\n",
       "      <td>False</td>\n",
       "      <td>False</td>\n",
       "      <td>False</td>\n",
       "      <td>False</td>\n",
       "      <td>False</td>\n",
       "      <td>False</td>\n",
       "      <td>...</td>\n",
       "      <td>False</td>\n",
       "      <td>False</td>\n",
       "      <td>True</td>\n",
       "      <td>True</td>\n",
       "      <td>True</td>\n",
       "      <td>False</td>\n",
       "      <td>False</td>\n",
       "      <td>False</td>\n",
       "      <td>False</td>\n",
       "      <td>False</td>\n",
       "    </tr>\n",
       "    <tr>\n",
       "      <th>2</th>\n",
       "      <td>False</td>\n",
       "      <td>False</td>\n",
       "      <td>False</td>\n",
       "      <td>False</td>\n",
       "      <td>False</td>\n",
       "      <td>False</td>\n",
       "      <td>False</td>\n",
       "      <td>False</td>\n",
       "      <td>False</td>\n",
       "      <td>False</td>\n",
       "      <td>...</td>\n",
       "      <td>False</td>\n",
       "      <td>False</td>\n",
       "      <td>True</td>\n",
       "      <td>True</td>\n",
       "      <td>True</td>\n",
       "      <td>False</td>\n",
       "      <td>False</td>\n",
       "      <td>False</td>\n",
       "      <td>False</td>\n",
       "      <td>False</td>\n",
       "    </tr>\n",
       "    <tr>\n",
       "      <th>3</th>\n",
       "      <td>False</td>\n",
       "      <td>False</td>\n",
       "      <td>False</td>\n",
       "      <td>False</td>\n",
       "      <td>False</td>\n",
       "      <td>False</td>\n",
       "      <td>False</td>\n",
       "      <td>False</td>\n",
       "      <td>False</td>\n",
       "      <td>False</td>\n",
       "      <td>...</td>\n",
       "      <td>False</td>\n",
       "      <td>False</td>\n",
       "      <td>True</td>\n",
       "      <td>True</td>\n",
       "      <td>True</td>\n",
       "      <td>False</td>\n",
       "      <td>False</td>\n",
       "      <td>False</td>\n",
       "      <td>False</td>\n",
       "      <td>False</td>\n",
       "    </tr>\n",
       "    <tr>\n",
       "      <th>4</th>\n",
       "      <td>False</td>\n",
       "      <td>False</td>\n",
       "      <td>False</td>\n",
       "      <td>False</td>\n",
       "      <td>False</td>\n",
       "      <td>False</td>\n",
       "      <td>False</td>\n",
       "      <td>False</td>\n",
       "      <td>False</td>\n",
       "      <td>False</td>\n",
       "      <td>...</td>\n",
       "      <td>False</td>\n",
       "      <td>False</td>\n",
       "      <td>True</td>\n",
       "      <td>True</td>\n",
       "      <td>True</td>\n",
       "      <td>True</td>\n",
       "      <td>False</td>\n",
       "      <td>False</td>\n",
       "      <td>False</td>\n",
       "      <td>False</td>\n",
       "    </tr>\n",
       "    <tr>\n",
       "      <th>...</th>\n",
       "      <td>...</td>\n",
       "      <td>...</td>\n",
       "      <td>...</td>\n",
       "      <td>...</td>\n",
       "      <td>...</td>\n",
       "      <td>...</td>\n",
       "      <td>...</td>\n",
       "      <td>...</td>\n",
       "      <td>...</td>\n",
       "      <td>...</td>\n",
       "      <td>...</td>\n",
       "      <td>...</td>\n",
       "      <td>...</td>\n",
       "      <td>...</td>\n",
       "      <td>...</td>\n",
       "      <td>...</td>\n",
       "      <td>...</td>\n",
       "      <td>...</td>\n",
       "      <td>...</td>\n",
       "      <td>...</td>\n",
       "      <td>...</td>\n",
       "    </tr>\n",
       "    <tr>\n",
       "      <th>2496</th>\n",
       "      <td>False</td>\n",
       "      <td>False</td>\n",
       "      <td>False</td>\n",
       "      <td>False</td>\n",
       "      <td>False</td>\n",
       "      <td>False</td>\n",
       "      <td>False</td>\n",
       "      <td>False</td>\n",
       "      <td>False</td>\n",
       "      <td>False</td>\n",
       "      <td>...</td>\n",
       "      <td>False</td>\n",
       "      <td>False</td>\n",
       "      <td>True</td>\n",
       "      <td>True</td>\n",
       "      <td>True</td>\n",
       "      <td>False</td>\n",
       "      <td>False</td>\n",
       "      <td>False</td>\n",
       "      <td>False</td>\n",
       "      <td>False</td>\n",
       "    </tr>\n",
       "    <tr>\n",
       "      <th>2497</th>\n",
       "      <td>False</td>\n",
       "      <td>False</td>\n",
       "      <td>False</td>\n",
       "      <td>False</td>\n",
       "      <td>False</td>\n",
       "      <td>False</td>\n",
       "      <td>False</td>\n",
       "      <td>False</td>\n",
       "      <td>False</td>\n",
       "      <td>False</td>\n",
       "      <td>...</td>\n",
       "      <td>False</td>\n",
       "      <td>False</td>\n",
       "      <td>True</td>\n",
       "      <td>True</td>\n",
       "      <td>True</td>\n",
       "      <td>False</td>\n",
       "      <td>False</td>\n",
       "      <td>False</td>\n",
       "      <td>False</td>\n",
       "      <td>False</td>\n",
       "    </tr>\n",
       "    <tr>\n",
       "      <th>2498</th>\n",
       "      <td>False</td>\n",
       "      <td>False</td>\n",
       "      <td>False</td>\n",
       "      <td>False</td>\n",
       "      <td>False</td>\n",
       "      <td>False</td>\n",
       "      <td>False</td>\n",
       "      <td>False</td>\n",
       "      <td>False</td>\n",
       "      <td>False</td>\n",
       "      <td>...</td>\n",
       "      <td>False</td>\n",
       "      <td>False</td>\n",
       "      <td>True</td>\n",
       "      <td>True</td>\n",
       "      <td>True</td>\n",
       "      <td>False</td>\n",
       "      <td>False</td>\n",
       "      <td>False</td>\n",
       "      <td>False</td>\n",
       "      <td>False</td>\n",
       "    </tr>\n",
       "    <tr>\n",
       "      <th>2499</th>\n",
       "      <td>False</td>\n",
       "      <td>False</td>\n",
       "      <td>False</td>\n",
       "      <td>False</td>\n",
       "      <td>False</td>\n",
       "      <td>False</td>\n",
       "      <td>False</td>\n",
       "      <td>False</td>\n",
       "      <td>False</td>\n",
       "      <td>False</td>\n",
       "      <td>...</td>\n",
       "      <td>False</td>\n",
       "      <td>False</td>\n",
       "      <td>True</td>\n",
       "      <td>True</td>\n",
       "      <td>True</td>\n",
       "      <td>False</td>\n",
       "      <td>False</td>\n",
       "      <td>False</td>\n",
       "      <td>False</td>\n",
       "      <td>False</td>\n",
       "    </tr>\n",
       "    <tr>\n",
       "      <th>2500</th>\n",
       "      <td>False</td>\n",
       "      <td>False</td>\n",
       "      <td>False</td>\n",
       "      <td>False</td>\n",
       "      <td>False</td>\n",
       "      <td>False</td>\n",
       "      <td>False</td>\n",
       "      <td>False</td>\n",
       "      <td>False</td>\n",
       "      <td>False</td>\n",
       "      <td>...</td>\n",
       "      <td>False</td>\n",
       "      <td>False</td>\n",
       "      <td>True</td>\n",
       "      <td>True</td>\n",
       "      <td>True</td>\n",
       "      <td>False</td>\n",
       "      <td>False</td>\n",
       "      <td>False</td>\n",
       "      <td>False</td>\n",
       "      <td>False</td>\n",
       "    </tr>\n",
       "  </tbody>\n",
       "</table>\n",
       "<p>2501 rows × 32 columns</p>\n",
       "</div>"
      ],
      "text/plain": [
       "      report_date  online_store    upc  retailer_product_code  brand  \\\n",
       "0           False         False  False                  False  False   \n",
       "1           False         False  False                  False  False   \n",
       "2           False         False  False                  False  False   \n",
       "3           False         False  False                  False  False   \n",
       "4           False         False  False                  False  False   \n",
       "...           ...           ...    ...                    ...    ...   \n",
       "2496        False         False  False                  False  False   \n",
       "2497        False         False  False                  False  False   \n",
       "2498        False         False  False                  False  False   \n",
       "2499        False         False  False                  False  False   \n",
       "2500        False         False  False                  False  False   \n",
       "\n",
       "      category  sub_category  product_description  review_date  review_rating  \\\n",
       "0        False         False                False        False          False   \n",
       "1        False         False                False        False          False   \n",
       "2        False         False                False        False          False   \n",
       "3        False         False                False        False          False   \n",
       "4        False         False                False        False          False   \n",
       "...        ...           ...                  ...          ...            ...   \n",
       "2496     False         False                False        False          False   \n",
       "2497     False         False                False        False          False   \n",
       "2498     False         False                False        False          False   \n",
       "2499     False         False                False        False          False   \n",
       "2500     False         False                False        False          False   \n",
       "\n",
       "      ...  dimension2  dimension3  dimension4  dimension5  dimension6  \\\n",
       "0     ...       False       False        True        True        True   \n",
       "1     ...       False       False        True        True        True   \n",
       "2     ...       False       False        True        True        True   \n",
       "3     ...       False       False        True        True        True   \n",
       "4     ...       False       False        True        True        True   \n",
       "...   ...         ...         ...         ...         ...         ...   \n",
       "2496  ...       False       False        True        True        True   \n",
       "2497  ...       False       False        True        True        True   \n",
       "2498  ...       False       False        True        True        True   \n",
       "2499  ...       False       False        True        True        True   \n",
       "2500  ...       False       False        True        True        True   \n",
       "\n",
       "      dimension7  dimension8  verified_purchase  helpful_review_count  \\\n",
       "0          False       False              False                 False   \n",
       "1          False       False              False                 False   \n",
       "2          False       False              False                 False   \n",
       "3          False       False              False                 False   \n",
       "4           True       False              False                 False   \n",
       "...          ...         ...                ...                   ...   \n",
       "2496       False       False              False                 False   \n",
       "2497       False       False              False                 False   \n",
       "2498       False       False              False                 False   \n",
       "2499       False       False              False                 False   \n",
       "2500       False       False              False                 False   \n",
       "\n",
       "      review_hash_id  \n",
       "0              False  \n",
       "1              False  \n",
       "2              False  \n",
       "3              False  \n",
       "4              False  \n",
       "...              ...  \n",
       "2496           False  \n",
       "2497           False  \n",
       "2498           False  \n",
       "2499           False  \n",
       "2500           False  \n",
       "\n",
       "[2501 rows x 32 columns]"
      ]
     },
     "execution_count": 17,
     "metadata": {},
     "output_type": "execute_result"
    }
   ],
   "source": [
    "dataset.isnull()"
   ]
  },
  {
   "cell_type": "markdown",
   "metadata": {},
   "source": [
    "calculate no. of null values of each columns"
   ]
  },
  {
   "cell_type": "code",
   "execution_count": 18,
   "metadata": {},
   "outputs": [
    {
     "data": {
      "text/plain": [
       "report_date                  0\n",
       "online_store                 0\n",
       "upc                          0\n",
       "retailer_product_code        0\n",
       "brand                        0\n",
       "category                     0\n",
       "sub_category                 0\n",
       "product_description          0\n",
       "review_date                  0\n",
       "review_rating                0\n",
       "review_title               105\n",
       "review_text                  0\n",
       "is_competitor                0\n",
       "manufacturer                 0\n",
       "market                       0\n",
       "matched_keywords          2501\n",
       "time_of_publication       2501\n",
       "url                        847\n",
       "review_type                  0\n",
       "parent_review                0\n",
       "manufacturers_response    2501\n",
       "dimension1                   0\n",
       "dimension2                   0\n",
       "dimension3                 191\n",
       "dimension4                2501\n",
       "dimension5                2501\n",
       "dimension6                2501\n",
       "dimension7                   2\n",
       "dimension8                   0\n",
       "verified_purchase            0\n",
       "helpful_review_count         0\n",
       "review_hash_id               0\n",
       "dtype: int64"
      ]
     },
     "execution_count": 18,
     "metadata": {},
     "output_type": "execute_result"
    }
   ],
   "source": [
    "dataset.isnull().sum()"
   ]
  },
  {
   "cell_type": "markdown",
   "metadata": {},
   "source": [
    "Calculate total no of null values in dataset"
   ]
  },
  {
   "cell_type": "code",
   "execution_count": 19,
   "metadata": {},
   "outputs": [
    {
     "data": {
      "text/plain": [
       "16151"
      ]
     },
     "execution_count": 19,
     "metadata": {},
     "output_type": "execute_result"
    }
   ],
   "source": [
    "dataset.isnull().sum().sum()"
   ]
  },
  {
   "cell_type": "markdown",
   "metadata": {},
   "source": [
    "calculate no. of rows and columns"
   ]
  },
  {
   "cell_type": "code",
   "execution_count": 24,
   "metadata": {},
   "outputs": [
    {
     "data": {
      "text/plain": [
       "(2501, 32)"
      ]
     },
     "execution_count": 24,
     "metadata": {},
     "output_type": "execute_result"
    }
   ],
   "source": [
    "dataset.shape"
   ]
  },
  {
   "cell_type": "markdown",
   "metadata": {},
   "source": [
    "calculate no. of rows"
   ]
  },
  {
   "cell_type": "code",
   "execution_count": 20,
   "metadata": {},
   "outputs": [
    {
     "data": {
      "text/plain": [
       "2501"
      ]
     },
     "execution_count": 20,
     "metadata": {},
     "output_type": "execute_result"
    }
   ],
   "source": [
    "dataset.shape[0]"
   ]
  },
  {
   "cell_type": "markdown",
   "metadata": {},
   "source": [
    "calculate percentage of null values of each columns"
   ]
  },
  {
   "cell_type": "code",
   "execution_count": 21,
   "metadata": {},
   "outputs": [
    {
     "data": {
      "text/plain": [
       "report_date                 0.000000\n",
       "online_store                0.000000\n",
       "upc                         0.000000\n",
       "retailer_product_code       0.000000\n",
       "brand                       0.000000\n",
       "category                    0.000000\n",
       "sub_category                0.000000\n",
       "product_description         0.000000\n",
       "review_date                 0.000000\n",
       "review_rating               0.000000\n",
       "review_title                4.198321\n",
       "review_text                 0.000000\n",
       "is_competitor               0.000000\n",
       "manufacturer                0.000000\n",
       "market                      0.000000\n",
       "matched_keywords          100.000000\n",
       "time_of_publication       100.000000\n",
       "url                        33.866453\n",
       "review_type                 0.000000\n",
       "parent_review               0.000000\n",
       "manufacturers_response    100.000000\n",
       "dimension1                  0.000000\n",
       "dimension2                  0.000000\n",
       "dimension3                  7.636945\n",
       "dimension4                100.000000\n",
       "dimension5                100.000000\n",
       "dimension6                100.000000\n",
       "dimension7                  0.079968\n",
       "dimension8                  0.000000\n",
       "verified_purchase           0.000000\n",
       "helpful_review_count        0.000000\n",
       "review_hash_id              0.000000\n",
       "dtype: float64"
      ]
     },
     "execution_count": 21,
     "metadata": {},
     "output_type": "execute_result"
    }
   ],
   "source": [
    "(dataset.isnull().sum() / dataset.shape[0])*100"
   ]
  },
  {
   "cell_type": "markdown",
   "metadata": {},
   "source": [
    "Calculate no. of columns"
   ]
  },
  {
   "cell_type": "code",
   "execution_count": 23,
   "metadata": {},
   "outputs": [
    {
     "data": {
      "text/plain": [
       "32"
      ]
     },
     "execution_count": 23,
     "metadata": {},
     "output_type": "execute_result"
    }
   ],
   "source": [
    "dataset.shape[1]"
   ]
  },
  {
   "cell_type": "markdown",
   "metadata": {},
   "source": [
    "calculate percentage of overall null values in dataset"
   ]
  },
  {
   "cell_type": "code",
   "execution_count": 22,
   "metadata": {},
   "outputs": [
    {
     "data": {
      "text/plain": [
       "20665.013994402238"
      ]
     },
     "execution_count": 22,
     "metadata": {},
     "output_type": "execute_result"
    }
   ],
   "source": [
    "(dataset.isnull().sum().sum() / dataset.shape[0]*dataset.shape[1])*100"
   ]
  },
  {
   "cell_type": "markdown",
   "metadata": {},
   "source": [
    "Calculate no. of notNull values in dataset of each column"
   ]
  },
  {
   "cell_type": "code",
   "execution_count": 26,
   "metadata": {},
   "outputs": [
    {
     "data": {
      "text/plain": [
       "report_date               2501\n",
       "online_store              2501\n",
       "upc                       2501\n",
       "retailer_product_code     2501\n",
       "brand                     2501\n",
       "category                  2501\n",
       "sub_category              2501\n",
       "product_description       2501\n",
       "review_date               2501\n",
       "review_rating             2501\n",
       "review_title              2396\n",
       "review_text               2501\n",
       "is_competitor             2501\n",
       "manufacturer              2501\n",
       "market                    2501\n",
       "matched_keywords             0\n",
       "time_of_publication          0\n",
       "url                       1654\n",
       "review_type               2501\n",
       "parent_review             2501\n",
       "manufacturers_response       0\n",
       "dimension1                2501\n",
       "dimension2                2501\n",
       "dimension3                2310\n",
       "dimension4                   0\n",
       "dimension5                   0\n",
       "dimension6                   0\n",
       "dimension7                2499\n",
       "dimension8                2501\n",
       "verified_purchase         2501\n",
       "helpful_review_count      2501\n",
       "review_hash_id            2501\n",
       "dtype: int64"
      ]
     },
     "execution_count": 26,
     "metadata": {},
     "output_type": "execute_result"
    }
   ],
   "source": [
    "dataset.notnull().sum()"
   ]
  },
  {
   "cell_type": "markdown",
   "metadata": {},
   "source": [
    "Calculate total no. of notNull values in dataset "
   ]
  },
  {
   "cell_type": "code",
   "execution_count": 27,
   "metadata": {},
   "outputs": [
    {
     "data": {
      "text/plain": [
       "63881"
      ]
     },
     "execution_count": 27,
     "metadata": {},
     "output_type": "execute_result"
    }
   ],
   "source": [
    "dataset.notnull().sum().sum()"
   ]
  },
  {
   "cell_type": "markdown",
   "metadata": {},
   "source": [
    "Show null data as graphical form\n",
    "White color in graph show that data is null"
   ]
  },
  {
   "cell_type": "code",
   "execution_count": 29,
   "metadata": {},
   "outputs": [
    {
     "data": {
      "text/plain": [
       "<function matplotlib.pyplot.show(close=None, block=None)>"
      ]
     },
     "execution_count": 29,
     "metadata": {},
     "output_type": "execute_result"
    },
    {
     "data": {
      "image/png": "[encoded data removed]",
      "text/plain": [
       "<Figure size 640x480 with 2 Axes>"
      ]
     },
     "metadata": {},
     "output_type": "display_data"
    }
   ],
   "source": [
    "sns.heatmap(dataset.isnull())\n",
    "plt.show"
   ]
  },
  {
   "cell_type": "code",
   "execution_count": null,
   "metadata": {},
   "outputs": [],
   "source": []
  }
 ],
 "metadata": {
  "kernelspec": {
   "display_name": "Python 3",
   "language": "python",
   "name": "python3"
  },
  "language_info": {
   "codemirror_mode": {
    "name": "ipython",
    "version": 3
   },
   "file_extension": ".py",
   "mimetype": "text/x-python",
   "name": "python",
   "nbconvert_exporter": "python",
   "pygments_lexer": "ipython3",
   "version": "3.12.2"
  }
 },
 "nbformat": 4,
 "nbformat_minor": 2
}
